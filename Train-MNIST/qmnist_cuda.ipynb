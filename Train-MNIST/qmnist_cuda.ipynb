{
 "cells": [
  {
   "cell_type": "code",
   "execution_count": 180,
   "metadata": {},
   "outputs": [
    {
     "name": "stdout",
     "output_type": "stream",
     "text": [
      "cuda:0\n"
     ]
    }
   ],
   "source": [
    "%matplotlib inline\n",
    "\n",
    "import os\n",
    "import time \n",
    "\n",
    "import torch\n",
    "import torchvision\n",
    "import torchvision.datasets as datasets\n",
    "import torchvision.transforms as transforms\n",
    "import torch.nn as nn\n",
    "import torch.nn.functional as F\n",
    "import torch.onnx\n",
    "\n",
    "import matplotlib.pyplot as plt\n",
    "import numpy as np\n",
    "\n",
    "device = torch.device(\"cuda:0\" if torch.cuda.is_available() else \"cpu\")\n",
    "print(device)"
   ]
  },
  {
   "cell_type": "markdown",
   "metadata": {},
   "source": [
    "Load dataset - QMNIST: Enhanced MNIST with more accurate labels and additional data."
   ]
  },
  {
   "cell_type": "code",
   "execution_count": 181,
   "metadata": {},
   "outputs": [],
   "source": [
    "train_batch_size = 4\n",
    "test_batch_size = 4\n",
    "\n",
    "epochs = 1000"
   ]
  },
  {
   "cell_type": "code",
   "execution_count": 182,
   "metadata": {},
   "outputs": [
    {
     "name": "stdout",
     "output_type": "stream",
     "text": [
      "Image size for training set: torch.Size([1, 28, 28]) torch.float32\n"
     ]
    }
   ],
   "source": [
    "transform = transforms.Compose(\n",
    "    [transforms.ToTensor(),\n",
    "     transforms.Normalize([0.5], [0.5])])\n",
    "\n",
    "trainset = datasets.QMNIST(\n",
    "          root = './data',\n",
    "          train = True,\n",
    "          download = True,\n",
    "          transform = transform)\n",
    "\n",
    "trainloader = torch.utils.data.DataLoader(trainset, batch_size = train_batch_size,\n",
    "                                           shuffle = True, num_workers = 8)\n",
    "\n",
    "testset =  datasets.QMNIST(\n",
    "          root = './data',\n",
    "          train = False,\n",
    "          download = True,\n",
    "          transform = transform)\n",
    "\n",
    "testloader = torch.utils.data.DataLoader(testset, batch_size = test_batch_size,\n",
    "                                           shuffle = False, num_workers = 8)\n",
    "\n",
    "classes = ('0','1','2','3','4','5','6','7','8','9')\n",
    "\n",
    "#check image size\n",
    "image, _ = trainset[0]\n",
    "image_size = image.size()\n",
    "print(\"Image size for training set:\", image_size, image.dtype)"
   ]
  },
  {
   "cell_type": "markdown",
   "metadata": {},
   "source": [
    "Show some of the training images"
   ]
  },
  {
   "cell_type": "code",
   "execution_count": 183,
   "metadata": {},
   "outputs": [
    {
     "data": {
      "image/png": "[encoded data removed]",
      "text/plain": [
       "<Figure size 640x480 with 1 Axes>"
      ]
     },
     "metadata": {},
     "output_type": "display_data"
    },
    {
     "name": "stdout",
     "output_type": "stream",
     "text": [
      "    2     4     0     3\n"
     ]
    }
   ],
   "source": [
    "# functions to show an image\n",
    "def imshow(img):\n",
    "    img = img / 2 + 0.5     # unnormalize\n",
    "    npimg = img.numpy()\n",
    "    plt.imshow(np.transpose(npimg, (1, 2, 0)))\n",
    "    plt.show()\n",
    "    \n",
    "# get some random training images\n",
    "dataiter = iter(trainloader)\n",
    "images, labels = next(dataiter)\n",
    "\n",
    "# show images\n",
    "imshow(torchvision.utils.make_grid(images))\n",
    "# print labels\n",
    "print(' '.join('%5s' % classes[labels[j]] for j in range(train_batch_size)))"
   ]
  },
  {
   "cell_type": "markdown",
   "metadata": {},
   "source": [
    "Create neural network"
   ]
  },
  {
   "cell_type": "code",
   "execution_count": 184,
   "metadata": {},
   "outputs": [
    {
     "name": "stdout",
     "output_type": "stream",
     "text": [
      "Q-MNIST: total params: 38450\n",
      "Net(\n",
      "  (conv1): Conv2d(1, 10, kernel_size=(5, 5), stride=(1, 1))\n",
      "  (pool): MaxPool2d(kernel_size=(3, 2), stride=2, padding=0, dilation=1, ceil_mode=False)\n",
      "  (conv2): Conv2d(10, 16, kernel_size=(5, 5), stride=(1, 1))\n",
      "  (fc1): Linear(in_features=192, out_features=120, bias=True)\n",
      "  (fc2): Linear(in_features=120, out_features=84, bias=True)\n",
      "  (fc3): Linear(in_features=84, out_features=10, bias=True)\n",
      ")\n"
     ]
    }
   ],
   "source": [
    "class Net(nn.Module):\n",
    "    def __init__(self, name=None):\n",
    "        super(Net, self).__init__()\n",
    "        if name:\n",
    "            self.name = name\n",
    "        #num channels input, num channels output, filter size \n",
    "        #num channels output: i.e. num feature maps produced thus will require 6 filters\n",
    "        self.conv1 = nn.Conv2d(1, 10, 5)\n",
    "        #filtersize,stride.\n",
    "        #maxpool acts the same way in each channel, so doesn't need to be fed the num channels of the input\n",
    "        self.pool = nn.MaxPool2d(kernel_size=(3, 2), stride=2)\n",
    "        self.conv2 = nn.Conv2d(10, 16, 5)\n",
    "        #since conv2 changes to 768\n",
    "        self.fc1 = nn.Linear(16 * 3 * 4, 120)\n",
    "        self.fc2 = nn.Linear(120, 84)\n",
    "        self.fc3 = nn.Linear(84, 10)\n",
    "        \n",
    "        # compute the total number of parameters\n",
    "        total_params = sum(p.numel() for p in self.parameters() if p.requires_grad)\n",
    "        print(self.name + ': total params:', total_params)\n",
    "\n",
    "    def forward(self, x):\n",
    "        #print(\"Input shape:\", x.shape)\n",
    "        x = self.pool(F.relu(self.conv1(x)))\n",
    "        #print(\"After conv1 and pooling shape:\", x.shape)\n",
    "        x = self.pool(F.relu(self.conv2(x)))\n",
    "        #print(\"After conv2 and pooling shape:\", x.shape)\n",
    "        #the calculation of window sizes is\n",
    "        #convo1 outputs=24x24;pool1 outputs=11.5*12;convo2 outputs=7.5*8;pool2 outputs=3.25*3\n",
    "        #hence x.view is 16*4*3 to round\n",
    "        #-1 takes the batch size\n",
    "        x = x.view(-1, 16 * 4 * 3)\n",
    "        #print(\"After flattening shape:\", x.shape)\n",
    "        x = F.relu(self.fc1(x))\n",
    "        x = F.relu(self.fc2(x))\n",
    "        x = self.fc3(x)\n",
    "        return x\n",
    "\n",
    "net = Net(name='Q-MNIST')\n",
    "net.to(device)\n",
    "print(net)"
   ]
  },
  {
   "cell_type": "markdown",
   "metadata": {},
   "source": [
    "Set loss function and optimizer"
   ]
  },
  {
   "cell_type": "code",
   "execution_count": 185,
   "metadata": {},
   "outputs": [],
   "source": [
    "import torch.optim as optim\n",
    "\n",
    "criterion = nn.CrossEntropyLoss()\n",
    "optimizer = optim.SGD(net.parameters(), lr=0.001, momentum=0.9)"
   ]
  },
  {
   "cell_type": "markdown",
   "metadata": {},
   "source": [
    "Training"
   ]
  },
  {
   "cell_type": "code",
   "execution_count": 186,
   "metadata": {},
   "outputs": [
    {
     "name": "stdout",
     "output_type": "stream",
     "text": [
      "expect max 15000 per epoch\n",
      "start epoch 0\n",
      "[1,  2000] loss: 1.042\n",
      "[1,  4000] loss: 0.205\n",
      "[1,  6000] loss: 0.143\n",
      "[1,  8000] loss: 0.116\n",
      "[1, 10000] loss: 0.100\n",
      "[1, 12000] loss: 0.094\n",
      "[1, 14000] loss: 0.082\n",
      "start epoch 1\n",
      "[2,  2000] loss: 0.072\n",
      "[2,  4000] loss: 0.065\n",
      "[2,  6000] loss: 0.068\n",
      "[2,  8000] loss: 0.068\n",
      "[2, 10000] loss: 0.049\n",
      "[2, 12000] loss: 0.049\n",
      "[2, 14000] loss: 0.049\n",
      "start epoch 2\n",
      "[3,  2000] loss: 0.040\n",
      "[3,  4000] loss: 0.044\n",
      "[3,  6000] loss: 0.041\n",
      "[3,  8000] loss: 0.043\n",
      "[3, 10000] loss: 0.045\n",
      "[3, 12000] loss: 0.042\n",
      "[3, 14000] loss: 0.043\n",
      "start epoch 3\n",
      "[4,  2000] loss: 0.032\n",
      "[4,  4000] loss: 0.032\n",
      "[4,  6000] loss: 0.033\n",
      "[4,  8000] loss: 0.036\n",
      "[4, 10000] loss: 0.037\n",
      "[4, 12000] loss: 0.032\n",
      "[4, 14000] loss: 0.038\n",
      "start epoch 4\n",
      "[5,  2000] loss: 0.031\n",
      "[5,  4000] loss: 0.029\n",
      "[5,  6000] loss: 0.028\n",
      "Loss is less than 0.000001:0.0 Stopping training.\n",
      "Finished Training\n",
      "training time  129.7008032798767\n"
     ]
    }
   ],
   "source": [
    "start = time.time()\n",
    "\n",
    "print(\"expect max\",len(trainloader),\"per epoch\")\n",
    "\n",
    "for epoch in range(epochs):  # loop over the dataset multiple times\n",
    "    \n",
    "    print(\"start epoch\",epoch)\n",
    "    running_loss = 0.0\n",
    "    \n",
    "    for i, data in enumerate(trainloader, 0):\n",
    "        # get the inputs; data is a list of [inputs, labels]\n",
    "        #inputs, labels = data\n",
    "        inputs, labels = data[0].to(device), data[1].to(device)\n",
    "        #print(\"at epoch\",epoch,\"at i\",i,\"data\",data)\n",
    "\n",
    "        # zero the parameter gradients\n",
    "        optimizer.zero_grad()\n",
    "        outputs = net(inputs)\n",
    "        loss = criterion(outputs, labels)\n",
    "\n",
    "        if loss is not None:\n",
    "\n",
    "            loss.backward()\n",
    "            optimizer.step()\n",
    "\n",
    "            # print statistics\n",
    "            running_loss += loss.item()\n",
    "            if i % 2000 == 1999:    # print every 2000 mini-batches\n",
    "                print('[%d, %5d] loss: %.3f' %\n",
    "                    (epoch + 1, i + 1, running_loss / 2000))\n",
    "                running_loss = 0.0\n",
    "\n",
    "            if loss.item() < 0.00000001:\n",
    "                print(f\"Loss is less than 0.000001:{loss.item()} Stopping training.\")\n",
    "                break\n",
    "\n",
    "    else:\n",
    "        #print(\"at continue\")\n",
    "        continue\n",
    "    #print(\"outter loop break\")\n",
    "    break\n",
    "\n",
    "print('Finished Training')\n",
    "\n",
    "end = time.time()\n",
    "print('training time ', end-start)"
   ]
  },
  {
   "cell_type": "markdown",
   "metadata": {},
   "source": [
    "Testing"
   ]
  },
  {
   "cell_type": "code",
   "execution_count": 187,
   "metadata": {},
   "outputs": [
    {
     "data": {
      "image/png": "[encoded data removed]",
      "text/plain": [
       "<Figure size 640x480 with 1 Axes>"
      ]
     },
     "metadata": {},
     "output_type": "display_data"
    },
    {
     "name": "stdout",
     "output_type": "stream",
     "text": [
      "GroundTruth:      7     2     1     0\n"
     ]
    }
   ],
   "source": [
    "dataiter = iter(testloader)\n",
    "images, labels = next(dataiter)\n",
    "\n",
    "# print images\n",
    "imshow(torchvision.utils.make_grid(images))\n",
    "print('GroundTruth: ', ' '.join('%5s' % classes[labels[j]] for j in range(test_batch_size)))\n",
    "\n",
    "images, labels = images.to(device), labels.to(device)"
   ]
  },
  {
   "cell_type": "markdown",
   "metadata": {},
   "source": [
    "Get prediction from network\n",
    "\n"
   ]
  },
  {
   "cell_type": "code",
   "execution_count": 188,
   "metadata": {},
   "outputs": [],
   "source": [
    "outputs = net(images)"
   ]
  },
  {
   "cell_type": "code",
   "execution_count": 189,
   "metadata": {},
   "outputs": [
    {
     "name": "stdout",
     "output_type": "stream",
     "text": [
      "size output torch.Size([4, 10])\n",
      "Predicted:      7     2     1     0\n"
     ]
    }
   ],
   "source": [
    "_, predicted = torch.max(outputs, 1)\n",
    "print(\"size output\",outputs.size())\n",
    "\n",
    "print('Predicted: ', ' '.join('%5s' % classes[predicted[j]]\n",
    "                              for j in range(test_batch_size)))"
   ]
  },
  {
   "cell_type": "markdown",
   "metadata": {},
   "source": [
    "Testing - Full testing dataset"
   ]
  },
  {
   "cell_type": "code",
   "execution_count": 190,
   "metadata": {},
   "outputs": [
    {
     "name": "stdout",
     "output_type": "stream",
     "text": [
      "Accuracy of the network on the 10000 test images: 98 %\n"
     ]
    }
   ],
   "source": [
    "correct = 0\n",
    "total = 0\n",
    "with torch.no_grad():\n",
    "    for data in testloader:\n",
    "        #images, labels = data\n",
    "        images, labels = data[0].to(device), data[1].to(device)\n",
    "        outputs = net(images)\n",
    "        _, predicted = torch.max(outputs.data, 1)\n",
    "        total += labels.size(0)\n",
    "        correct += (predicted == labels).sum().item()\n",
    "\n",
    "print('Accuracy of the network on the 10000 test images: %d %%' % (\n",
    "    100 * correct / total))"
   ]
  },
  {
   "cell_type": "markdown",
   "metadata": {},
   "source": [
    "Naive approach prediction probability 10% (1/10 digits)"
   ]
  },
  {
   "cell_type": "code",
   "execution_count": 191,
   "metadata": {},
   "outputs": [
    {
     "name": "stdout",
     "output_type": "stream",
     "text": [
      "class_correct [5888.0, 6748.0, 5971.0, 5995.0, 5753.0, 5425.0, 5801.0, 6108.0, 5741.0, 5755.0]\n",
      "class_total [5952.0, 6791.0, 6026.0, 6084.0, 5780.0, 5454.0, 5957.0, 6231.0, 5890.0, 5835.0]\n",
      "Accuracy of     0 : 98 %\n",
      "Accuracy of     1 : 99 %\n",
      "Accuracy of     2 : 99 %\n",
      "Accuracy of     3 : 98 %\n",
      "Accuracy of     4 : 99 %\n",
      "Accuracy of     5 : 99 %\n",
      "Accuracy of     6 : 97 %\n",
      "Accuracy of     7 : 98 %\n",
      "Accuracy of     8 : 97 %\n",
      "Accuracy of     9 : 98 %\n"
     ]
    }
   ],
   "source": [
    "class_correct = list(0. for i in range(10))\n",
    "class_total = list(0. for i in range(10))\n",
    "with torch.no_grad():\n",
    "    for data in testloader:\n",
    "        #images, labels = data\n",
    "        images, labels = data[0].to(device), data[1].to(device)\n",
    "        outputs = net(images)\n",
    "        _, predicted = torch.max(outputs, 1)\n",
    "\n",
    "        c = (predicted == labels)\n",
    "\n",
    "        #print(\"c\",c,\"size\",c.size(),\"enumel\",c.numel())\n",
    "\n",
    "        #address c not scalar\n",
    "        if c.numel() > 1:\n",
    "            c = c.squeeze()\n",
    "        else:\n",
    "            #convert to single ele\n",
    "            c = torch.tensor([c.item()])\n",
    "            print(\"type c\",c.dtype)\n",
    "            \n",
    "        for i in range(test_batch_size):\n",
    "            label = labels[i]\n",
    "            #if test_batch_size-1 > 1:\n",
    "            class_correct[label] += c[i].item()\n",
    "            class_total[label] += 1\n",
    "\n",
    "print(\"class_correct\",class_correct)\n",
    "print(\"class_total\", class_total)\n",
    "for i in range(10):\n",
    "    print('Accuracy of %5s : %2d %%' % (\n",
    "        classes[i], 100 * class_correct[i] / class_total[i]))"
   ]
  },
  {
   "cell_type": "markdown",
   "metadata": {},
   "source": [
    "Convert model to onnx"
   ]
  },
  {
   "cell_type": "code",
   "execution_count": 192,
   "metadata": {},
   "outputs": [
    {
     "name": "stdout",
     "output_type": "stream",
     "text": [
      "Image size for training set: torch.Size([1, 28, 28])\n"
     ]
    }
   ],
   "source": [
    "image, _ = trainset[0]\n",
    "image_size = image.size()\n",
    "print(\"Image size for training set:\", image_size)\n",
    "\n",
    "#save weights\n",
    "weights_path = 'qminst_weights.pth'\n",
    "torch.save(net.state_dict(), weights_path)\n",
    "\n",
    "#Load weights\n",
    "#w_path = os.path.join(os.getcwd(), 'qminst_weights.pth')\n",
    "#net.load_state_dict(torch.load(w_path))\n",
    "\n",
    "#set model to eval mode\n",
    "net.eval()\n",
    "\n",
    "#dummy input tensor match model input shape\n",
    "dummy_input = torch.randn(1, 1, 28, 28, dtype=torch.float32) \n",
    "\n",
    "#model to cpu\n",
    "net.cpu()\n",
    "model_path = os.path.join(os.getcwd(), 'qminst_model.onnx')\n",
    "torch.onnx.export(net, dummy_input, model_path,\n",
    "                  verbose=True, \n",
    "                  input_names=['input'], \n",
    "                  output_names=['output'], \n",
    "                  opset_version=15)"
   ]
  }
 ],
 "metadata": {
  "kernelspec": {
   "display_name": "Python 3 (ipykernel)",
   "language": "python",
   "name": "python3"
  },
  "language_info": {
   "codemirror_mode": {
    "name": "ipython",
    "version": 3
   },
   "file_extension": ".py",
   "mimetype": "text/x-python",
   "name": "python",
   "nbconvert_exporter": "python",
   "pygments_lexer": "ipython3",
   "version": "3.10.11"
  }
 },
 "nbformat": 4,
 "nbformat_minor": 1
}
